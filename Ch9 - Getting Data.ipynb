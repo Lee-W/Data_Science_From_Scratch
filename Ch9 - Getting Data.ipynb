{
 "cells": [
  {
   "cell_type": "markdown",
   "metadata": {},
   "source": [
    "# CSV"
   ]
  },
  {
   "cell_type": "code",
   "execution_count": 1,
   "metadata": {
    "collapsed": false
   },
   "outputs": [
    {
     "name": "stdout",
     "output_type": "stream",
     "text": [
      "6/20/2014 AAPL 90.91\n",
      "6/20/2014 MSFT 41.68\n",
      "6/20/2014 FB 64.5\n",
      "6/19/2014 AAPL 91.86\n",
      "6/19/2014 MSFT 41.51\n",
      "6/19/2014 FB 64.34\n"
     ]
    }
   ],
   "source": [
    "import csv\n",
    "with open('ch6-files/tab_delimited_stock_prices.txt', 'r') as f:\n",
    "    reader = csv.reader(f, delimiter='\\t')\n",
    "    for row in reader:\n",
    "        date = row[0]\n",
    "        symbol = row[1]\n",
    "        closing_price = float(row[2])\n",
    "        print(date, symbol, closing_price)"
   ]
  },
  {
   "cell_type": "markdown",
   "metadata": {},
   "source": [
    "- csv with header -> DictReader"
   ]
  },
  {
   "cell_type": "code",
   "execution_count": 2,
   "metadata": {
    "collapsed": false
   },
   "outputs": [
    {
     "name": "stdout",
     "output_type": "stream",
     "text": [
      "6/20/2014 AAPL 90.91\n",
      "6/20/2014 MSFT 41.68\n",
      "6/20/2014 FB 64.5\n"
     ]
    }
   ],
   "source": [
    "with open('ch6-files/colon_delimited_stock_prices.txt', 'r') as f:\n",
    "    reader = csv.DictReader(f, delimiter=':')\n",
    "    for row in reader:\n",
    "        date = row[\"date\"]\n",
    "        symbol = row[\"symbol\"]\n",
    "        closing_price = float(row[\"closing_price\"])\n",
    "        print(date, symbol, closing_price)"
   ]
  },
  {
   "cell_type": "code",
   "execution_count": 3,
   "metadata": {
    "collapsed": true
   },
   "outputs": [],
   "source": [
    "today_prices = { 'AAPL' : 90.91, 'MSFT' : 41.68, 'FB' : 64.5 }\n",
    "with open('ch6-files/comma_delimited_stock_prices.txt','w') as f:\n",
    "    writer = csv.writer(f, delimiter=',')\n",
    "    for stock, price in today_prices.items():\n",
    "        writer.writerow([stock, price])"
   ]
  },
  {
   "cell_type": "markdown",
   "metadata": {},
   "source": [
    "# Scraping the Web"
   ]
  },
  {
   "cell_type": "markdown",
   "metadata": {},
   "source": [
    "Python's built-in HTML parser doesn't always cope well with HTML that's not perfectly formed.  \n",
    "Thus, using **html5lib** is recommended."
   ]
  },
  {
   "cell_type": "code",
   "execution_count": 4,
   "metadata": {
    "collapsed": true
   },
   "outputs": [],
   "source": [
    "from bs4 import BeautifulSoup\n",
    "import requests\n",
    "html = requests.get(\"http://www.example.com\").text\n",
    "soup = BeautifulSoup(html, 'html5lib')"
   ]
  },
  {
   "cell_type": "code",
   "execution_count": 5,
   "metadata": {
    "collapsed": false
   },
   "outputs": [
    {
     "data": {
      "text/plain": [
       "<p>This domain is established to be used for illustrative examples in documents. You may use this\n",
       "    domain in examples without prior coordination or asking for permission.</p>"
      ]
     },
     "execution_count": 5,
     "metadata": {},
     "output_type": "execute_result"
    }
   ],
   "source": [
    "first_paragraph = soup.find('p')\n",
    "first_paragraph"
   ]
  },
  {
   "cell_type": "code",
   "execution_count": 6,
   "metadata": {
    "collapsed": false
   },
   "outputs": [
    {
     "data": {
      "text/plain": [
       "'This domain is established to be used for illustrative examples in documents. You may use this\\n    domain in examples without prior coordination or asking for permission.'"
      ]
     },
     "execution_count": 6,
     "metadata": {},
     "output_type": "execute_result"
    }
   ],
   "source": [
    "first_paragraph_text = soup.p.text\n",
    "first_paragraph_text"
   ]
  },
  {
   "cell_type": "code",
   "execution_count": 7,
   "metadata": {
    "collapsed": false
   },
   "outputs": [
    {
     "data": {
      "text/plain": [
       "[<p>This domain is established to be used for illustrative examples in documents. You may use this\n",
       "     domain in examples without prior coordination or asking for permission.</p>,\n",
       " <p><a href=\"http://www.iana.org/domains/example\">More information...</a></p>]"
      ]
     },
     "execution_count": 7,
     "metadata": {},
     "output_type": "execute_result"
    }
   ],
   "source": [
    "all_paragraphs = soup.find_all('p')\n",
    "all_paragraphs"
   ]
  },
  {
   "cell_type": "code",
   "execution_count": 8,
   "metadata": {
    "collapsed": false
   },
   "outputs": [
    {
     "data": {
      "text/plain": [
       "[]"
      ]
     },
     "execution_count": 8,
     "metadata": {},
     "output_type": "execute_result"
    }
   ],
   "source": [
    "important_paragraphs = soup('p', {'class' : 'important'})\n",
    "important_paragraphs = soup('p', 'important')\n",
    "important_paragraphs = [p for p in soup('p')\n",
    "                         if 'important' in p.get('class', [])]\n",
    "important_paragraphs"
   ]
  },
  {
   "cell_type": "markdown",
   "metadata": {},
   "source": [
    "# Using APIs"
   ]
  },
  {
   "cell_type": "markdown",
   "metadata": {},
   "source": [
    "## Unauthenticated API "
   ]
  },
  {
   "cell_type": "code",
   "execution_count": 9,
   "metadata": {
    "collapsed": false,
    "scrolled": false
   },
   "outputs": [],
   "source": [
    "import requests, json\n",
    "endpoint = \"https://api.github.com/users/Lee-W/repos\"\n",
    "repos = json.loads(requests.get(endpoint).text)"
   ]
  },
  {
   "cell_type": "markdown",
   "metadata": {},
   "source": [
    "- Python doesn’t come with a great date parser.\n",
    "    - **python-dateutil** is recommended"
   ]
  },
  {
   "cell_type": "code",
   "execution_count": 10,
   "metadata": {
    "collapsed": false
   },
   "outputs": [],
   "source": [
    "from collections import Counter\n",
    "from dateutil.parser import parse\n",
    "\n",
    "dates = [parse(repo[\"created_at\"]) for repo in repos]\n",
    "month_counts = Counter(date.month for date in dates)\n",
    "weekday_counts = Counter(date.weekday() for date in dates)\n",
    "last_5_repositories = sorted(repos,\n",
    "                             key=lambda r: r[\"created_at\"],\n",
    "                             reverse=True)[:5]\n",
    "last_5_languages = [repo[\"language\"]\n",
    "                    for repo in last_5_repositories]"
   ]
  },
  {
   "cell_type": "code",
   "execution_count": 11,
   "metadata": {
    "collapsed": false
   },
   "outputs": [
    {
     "data": {
      "text/plain": [
       "[datetime.datetime(2014, 9, 7, 2, 44, 34, tzinfo=tzutc()),\n",
       " datetime.datetime(2015, 6, 13, 2, 7, 15, tzinfo=tzutc()),\n",
       " datetime.datetime(2014, 2, 3, 12, 28, 38, tzinfo=tzutc()),\n",
       " datetime.datetime(2016, 1, 22, 13, 8, 28, tzinfo=tzutc()),\n",
       " datetime.datetime(2016, 2, 21, 10, 23, 6, tzinfo=tzutc()),\n",
       " datetime.datetime(2014, 6, 3, 3, 10, 19, tzinfo=tzutc()),\n",
       " datetime.datetime(2014, 1, 29, 16, 5, 31, tzinfo=tzutc()),\n",
       " datetime.datetime(2016, 4, 6, 5, 50, 36, tzinfo=tzutc()),\n",
       " datetime.datetime(2014, 12, 29, 13, 4, 36, tzinfo=tzutc()),\n",
       " datetime.datetime(2015, 4, 10, 17, 54, 27, tzinfo=tzutc()),\n",
       " datetime.datetime(2015, 9, 6, 9, 15, 57, tzinfo=tzutc()),\n",
       " datetime.datetime(2015, 2, 1, 8, 14, 6, tzinfo=tzutc()),\n",
       " datetime.datetime(2015, 2, 10, 2, 54, 6, tzinfo=tzutc()),\n",
       " datetime.datetime(2016, 3, 16, 8, 30, 57, tzinfo=tzutc()),\n",
       " datetime.datetime(2016, 4, 5, 3, 6, 44, tzinfo=tzutc()),\n",
       " datetime.datetime(2015, 7, 3, 4, 34, 27, tzinfo=tzutc()),\n",
       " datetime.datetime(2014, 2, 18, 4, 1, 42, tzinfo=tzutc()),\n",
       " datetime.datetime(2015, 10, 19, 7, 1, 31, tzinfo=tzutc()),\n",
       " datetime.datetime(2015, 2, 11, 15, 9, 6, tzinfo=tzutc()),\n",
       " datetime.datetime(2015, 6, 12, 1, 39, 59, tzinfo=tzutc()),\n",
       " datetime.datetime(2014, 2, 2, 6, 13, 21, tzinfo=tzutc()),\n",
       " datetime.datetime(2016, 2, 19, 12, 24, 36, tzinfo=tzutc()),\n",
       " datetime.datetime(2013, 12, 10, 2, 28, 53, tzinfo=tzutc()),\n",
       " datetime.datetime(2014, 9, 26, 7, 27, 39, tzinfo=tzutc()),\n",
       " datetime.datetime(2015, 3, 31, 5, 34, 57, tzinfo=tzutc()),\n",
       " datetime.datetime(2015, 8, 31, 11, 18, 28, tzinfo=tzutc()),\n",
       " datetime.datetime(2014, 8, 6, 1, 43, 44, tzinfo=tzutc()),\n",
       " datetime.datetime(2015, 9, 30, 8, 2, 32, tzinfo=tzutc()),\n",
       " datetime.datetime(2016, 4, 17, 7, 36, 8, tzinfo=tzutc()),\n",
       " datetime.datetime(2014, 5, 22, 8, 30, 45, tzinfo=tzutc())]"
      ]
     },
     "execution_count": 11,
     "metadata": {},
     "output_type": "execute_result"
    }
   ],
   "source": [
    "dates"
   ]
  },
  {
   "cell_type": "code",
   "execution_count": 12,
   "metadata": {
    "collapsed": false
   },
   "outputs": [
    {
     "data": {
      "text/plain": [
       "['Jupyter Notebook',\n",
       " 'Jupyter Notebook',\n",
       " 'Jupyter Notebook',\n",
       " 'Jupyter Notebook',\n",
       " 'Jupyter Notebook']"
      ]
     },
     "execution_count": 12,
     "metadata": {},
     "output_type": "execute_result"
    }
   ],
   "source": [
    "last_5_languages"
   ]
  },
  {
   "cell_type": "markdown",
   "metadata": {},
   "source": [
    "# Further Exploration\n",
    "- pandas\n",
    "- scrapy"
   ]
  }
 ],
 "metadata": {
  "kernelspec": {
   "display_name": "Python 3",
   "language": "python",
   "name": "python3"
  },
  "language_info": {
   "codemirror_mode": {
    "name": "ipython",
    "version": 3
   },
   "file_extension": ".py",
   "mimetype": "text/x-python",
   "name": "python",
   "nbconvert_exporter": "python",
   "pygments_lexer": "ipython3",
   "version": "3.4.4"
  }
 },
 "nbformat": 4,
 "nbformat_minor": 0
}
